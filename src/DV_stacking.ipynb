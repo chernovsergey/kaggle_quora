{
 "cells": [
  {
   "cell_type": "code",
   "execution_count": null,
   "metadata": {
    "collapsed": true
   },
   "outputs": [],
   "source": [
    "from sklearn.model_selection import KFold\n",
    "\n",
    "def model_pred(model, data, kagg, y, ykagg=np.array([]), params=None):\n",
    "    # data - весь трейн в пандасе/ нумпай массиве / csr матрице\n",
    "    # kagg - весь тест в пандасе/ нумпай массиве / csr матрице\n",
    "    # y - таргет для всего трейна в пандас сериес или нумпай массиве\n",
    "    # params - параметры (см. пример)\n",
    "    \n",
    "    if type(data).__name__=='DataFrame':\n",
    "        data = data.values\n",
    "    if type(kagg).__name__=='DataFrame':\n",
    "        kagg = kagg.values\n",
    "    if type(y).__name__=='Series' or type(y).__name__=='DataFrame':\n",
    "        y = y.values\n",
    "        \n",
    "    if model == 'fastfm' and type(data).__name__ != 'csr_matrix':\n",
    "        data = csr_matrix(data)\n",
    "        kagg = csr_matrix(kagg)\n",
    "    if model == 'fastfm':\n",
    "        y = y.replace(0,-1)\n",
    "        \n",
    "    scores=[]\n",
    "    #  prediction matrices\n",
    "    data_out = np.zeros((data.shape[0]))\n",
    "    kagg_out = np.zeros((kagg.shape[0]))\n",
    "    \n",
    "    n_splits = 5\n",
    "    iters_total = 2\n",
    "    ids = pd.read_csv('data/final/data_ids.csv',usecols=['graph_id'])\n",
    "    graph_ids_unique = ids.graph_id.unique() # array of unique graphs\n",
    "    \n",
    "    for iter_num in range(iters_total):\n",
    "        kf = KFold(n_splits=n_splits, shuffle=True)\n",
    "        for train_graphs, test_graphs  in kf.split(graph_ids_unique):\n",
    "            train_ind = ids[ids.graph_id.isin(graph_ids_unique[train_graphs])].index.values\n",
    "            test_ind  = ids[ids.graph_id.isin(graph_ids_unique[test_graphs ])].index.values\n",
    "            \n",
    "            if model=='xgb' or model=='lgb' or model=='nnet': # add validation set\n",
    "                kf_valid = KFold(n_splits=8, shuffle=True)\n",
    "                graph_ids_train = graph_ids_unique[train_graphs]\n",
    "                train_graphs, valid_graphs = list(kf_valid.split(graph_ids_train))[0]\n",
    "                train_ind = ids[ids.graph_id.isin(graph_ids_train[train_graphs])].index.values\n",
    "                valid_ind = ids[ids.graph_id.isin(graph_ids_train[valid_graphs])].index.values \n",
    "                \n",
    "            if model=='lgb':\n",
    "                fold_pred, kagg_pred = lgb_pred (params, data[train_ind], y[train_ind], \n",
    "                                                         data[valid_ind], y[valid_ind],\n",
    "                                                         data[test_ind], kagg)\n",
    "            elif model=='xgb':\n",
    "                fold_pred, kagg_pred = xgb_pred (params, data[train_ind], y[train_ind], \n",
    "                                                         data[valid_ind], y[valid_ind],\n",
    "                                                         data[test_ind], kagg)\n",
    "            elif model=='nnet':\n",
    "                fold_pred, kagg_pred = nnet_pred(params, data[train_ind], y[train_ind], \n",
    "                                                         data[valid_ind], y[valid_ind],\n",
    "                                                         data[test_ind], kagg)\n",
    "            elif model=='fastfm':\n",
    "                fold_pred, kagg_pred = fastfm_pred(params, data[train_ind], y[train_ind], data[test_ind], kagg)\n",
    "                \n",
    "            else:\n",
    "                model.fit(train, ytrain)\n",
    "                try:\n",
    "                    fold_pred = model.predict_proba(test)[:,1]\n",
    "                    kagg_pred = model.predict_proba(kagg)[:,1]\n",
    "                except:\n",
    "                    try:\n",
    "                        fold_pred = model.predict_proba(test)\n",
    "                        kagg_pred = model.predict_proba(kagg)\n",
    "                    except:\n",
    "                        fold_pred = model.predict(test)\n",
    "                        kagg_pred = model.predict(kagg)\n",
    "                    \n",
    "            data_out[test_ind] += fold_pred\n",
    "            kagg_out += kagg_pred\n",
    "            if iter_num==0:\n",
    "                #print (log_loss(ytest, fold_pred))\n",
    "                print (log_loss(y[test_ind], fold_pred))\n",
    "            \n",
    "        if ykagg.shape[0]>0:\n",
    "            print ('kagg score:', log_loss(ykagg, kagg_out/(iter_num+1)/n_splits))\n",
    "        print ('train score:', log_loss(y, data_out/(iter_num+1)))\n",
    "    data_out /= iters_total\n",
    "    kagg_out /= (iters_total*n_splits)\n",
    "    return data_out, kagg_out"
   ]
  },
  {
   "cell_type": "code",
   "execution_count": null,
   "metadata": {
    "collapsed": true
   },
   "outputs": [],
   "source": [
    "train_2['lgb_oof'], test_2['lgb_oof'] = model_pred('lgb', \n",
    "                                                    train[num_features], \n",
    "                                                    test [num_features], \n",
    "                                                    ytrain, params=params)"
   ]
  },
  {
   "cell_type": "code",
   "execution_count": null,
   "metadata": {
    "collapsed": true
   },
   "outputs": [],
   "source": []
  },
  {
   "cell_type": "markdown",
   "metadata": {},
   "source": [
    "## Мусор"
   ]
  },
  {
   "cell_type": "code",
   "execution_count": null,
   "metadata": {
    "collapsed": true
   },
   "outputs": [],
   "source": []
  },
  {
   "cell_type": "code",
   "execution_count": 1,
   "metadata": {
    "collapsed": true
   },
   "outputs": [],
   "source": [
    "import pandas as pd\n",
    "t1 = pd.read_csv('subs/lgb_oof_325_CV24265_WITH_correctSplits_pos_tags.csv',usecols=['is_duplicate'])"
   ]
  },
  {
   "cell_type": "code",
   "execution_count": 3,
   "metadata": {
    "collapsed": true
   },
   "outputs": [],
   "source": [
    "t1['old'] = pd.read_csv('subs/lgb_oof_307_CV1771_WITH_feat236_stem_locs_tfidfoof_FMoof_lenfm_magicCorrected_NO_tfidf_FM_oofs.csv',usecols=['is_duplicate'])"
   ]
  },
  {
   "cell_type": "code",
   "execution_count": 5,
   "metadata": {
    "collapsed": false
   },
   "outputs": [
    {
     "data": {
      "text/html": [
       "<div>\n",
       "<table border=\"1\" class=\"dataframe\">\n",
       "  <thead>\n",
       "    <tr style=\"text-align: right;\">\n",
       "      <th></th>\n",
       "      <th>is_duplicate</th>\n",
       "      <th>old</th>\n",
       "    </tr>\n",
       "  </thead>\n",
       "  <tbody>\n",
       "    <tr>\n",
       "      <th>is_duplicate</th>\n",
       "      <td>1.00000</td>\n",
       "      <td>0.98773</td>\n",
       "    </tr>\n",
       "    <tr>\n",
       "      <th>old</th>\n",
       "      <td>0.98773</td>\n",
       "      <td>1.00000</td>\n",
       "    </tr>\n",
       "  </tbody>\n",
       "</table>\n",
       "</div>"
      ],
      "text/plain": [
       "              is_duplicate      old\n",
       "is_duplicate       1.00000  0.98773\n",
       "old                0.98773  1.00000"
      ]
     },
     "execution_count": 5,
     "metadata": {},
     "output_type": "execute_result"
    }
   ],
   "source": [
    "YTrain = pd.read_csv(INPUT_FOLDER + '/train.csv', usecols=['is_duplicate']).values.ravel()\n",
    "\n",
    "ids = pd.read_csv('data/final/data_ids.csv',usecols=['graph_id'])\n",
    "graph_ids_unique = ids.graph_id.unique()\n",
    "\n",
    "with open('dump_sequences.pkl', 'rb') as f:\n",
    "    x1_train, x2_train, x1_test, x2_test, nb_words = pickle.load(f)\n",
    "embedding_matrix = np.load('embedding_matrix.npy')\n",
    "\n",
    "\n",
    "\n",
    "print x1_train.shape, x2_train.shape\n",
    "print x1_test.shape, x2_test.shape\n",
    "print nb_words\n",
    "\n",
    "N_FOLDS = 5\n",
    "N_ITER = 3\n",
    "\n",
    "print \"Creating train and test sets for blending.\"\n",
    "preds_train = np.zeros((x1_train.shape[0]))\n",
    "preds_test_j = np.zeros((x1_test.shape[0]))\n",
    "loglosses = []\n",
    "\n",
    "from sklearn.model_selection import KFold\n",
    "\n",
    "for iter_num in range(N_ITER):\n",
    "    kf = KFold(n_splits=n_splits, shuffle=True)\n",
    "    splits = list(kf.split(graph_ids_unique))\n",
    "\n",
    "    for fold_id, (train_graphs, test_graphs) in enumerate(splits):\n",
    "        print \"Fold\", fold_id\n",
    "        train_ind = ids[ids.graph_id.isin(graph_ids_unique[train_graphs])].index.values # temporary train indexes\n",
    "        test_ind  = ids[ids.graph_id.isin(graph_ids_unique[test_graphs ])].index.values # final test indexes\n",
    "        \n",
    "        kf_valid = KFold(n_splits=8)\n",
    "        graph_ids_train = graph_ids_unique[train_graphs]\n",
    "        train_graphs, valid_graphs = list(kf_valid.split(graph_ids_train))[0]\n",
    "        train_ind = ids[ids.graph_id.isin(graph_ids_train[train_graphs])].index.values # final train indexes\n",
    "        valid_ind = ids[ids.graph_id.isin(graph_ids_train[valid_graphs])].index.values # final valid indexes\n",
    "        \n",
    "\n",
    "        clf = KerasConvnet()\n",
    "        clf.fit(x1_train[train_ind], x2_train[train_ind], YTrain[train_ind],\n",
    "                x1_train[valid_ind], x2_train[valid_ind], YTrain[valid_ind])\n",
    "\n",
    "        y_pred = clf.predict(x1_train[test_ind], x2_train[test_ind])\n",
    "        preds_train[test_ind] += y_pred\n",
    "\n",
    "        lloss = log_loss(YTrain[test_ind], y_pred)\n",
    "        loglosses.append(lloss)\n",
    "        print 'LogLoss: ', lloss\n",
    "\n",
    "        # Predict on entire test set\n",
    "        preds_test_j += clf.predict(x1_test, x2_test).ravel()\n",
    "\n",
    "    print \"Out of fold logloss-es:\\n\", loglosses\n",
    "    print 'train score:', log_loss(YTrain, preds_train / (iter_num + 1))\n"
   ]
  },
  {
   "cell_type": "code",
   "execution_count": 43,
   "metadata": {
    "collapsed": false
   },
   "outputs": [
    {
     "data": {
      "text/plain": [
       "(0.08537451907256936, 0.08620366919042675)"
      ]
     },
     "execution_count": 43,
     "metadata": {},
     "output_type": "execute_result"
    }
   ],
   "source": [
    "t = pd.DataFrame()\n",
    "t['1313'] = pd.read_csv('subs/lgb_oof_324_CV1767_WITH_correctSplits_pos.csv', usecols=['is_duplicate'])\n",
    "t['12758'] = pd.read_csv('subs/lgb_oof_311_WITH_feat236_stem_locs_tfidfoof_FMoof_lenfm_magicCorrected_CV1746.csv', usecols=['is_duplicate'])\n",
    "t['1313'].mean(), t['12758'].mean()"
   ]
  },
  {
   "cell_type": "code",
   "execution_count": 44,
   "metadata": {
    "collapsed": false
   },
   "outputs": [
    {
     "data": {
      "text/plain": [
       "(0.3675672312058731, 0.3681929089369834)"
      ]
     },
     "execution_count": 44,
     "metadata": {},
     "output_type": "execute_result"
    }
   ],
   "source": [
    "t = pd.DataFrame()\n",
    "t['1313'] = pd.read_csv('subs/data_lgb_oof_324_CV1767_WITH_correctSplits_pos.csv', usecols=['lgb_oof_324_CV1767_WITH_correctSplits_pos'])\n",
    "t['12758'] = pd.read_csv('subs/data_lgb_oof_311_WITH_feat236_stem_locs_tfidfoof_FMoof_lenfm_magicCorrected_CV1746.csv', usecols=['lgb_oof_311_WITH_feat236_stem_locs_tfidfoof_FMoof_lenfm_magicCorrected_CV1746'])\n",
    "t['1313'].mean(), t['12758'].mean()"
   ]
  },
  {
   "cell_type": "code",
   "execution_count": 22,
   "metadata": {
    "collapsed": false
   },
   "outputs": [],
   "source": [
    "t = pd.read_csv('subs/kagg_lgb_oof_324_CV1767_WITH_correctSplits_pos.csv', usecols=['is_duplicate'])\n",
    "t['12755'] = pd.read_csv('subs/kagg_lgb_oof_325_CV24265_WITH_correctSplits_pos_tags.csv', usecols=['is_duplicate'])\n",
    "t['12758'] = pd.read_csv('subs/kagg_lgb_oof_311_WITH_feat236_stem_locs_tfidfoof_FMoof_lenfm_magicCorrected_CV1746.csv', usecols=['is_duplicate'])"
   ]
  },
  {
   "cell_type": "code",
   "execution_count": 45,
   "metadata": {
    "collapsed": true
   },
   "outputs": [],
   "source": [
    "t = pd.DataFrame()\n",
    "t['new'] = pd.read_csv('subs/lgb_oof_324_CV1759_WITH_correctSplits_pos.csv', usecols=['is_duplicate'])\n",
    "t['1313'] = pd.read_csv('subs/lgb_oof_324_CV1767_WITH_correctSplits_pos.csv', usecols=['is_duplicate'])\n",
    "t['12755'] = pd.read_csv('subs/lgb_oof_325_CV24265_WITH_correctSplits_pos_tags.csv', usecols=['is_duplicate'])\n",
    "t['12758'] = pd.read_csv('subs/lgb_oof_311_WITH_feat236_stem_locs_tfidfoof_FMoof_lenfm_magicCorrected_CV1746.csv', usecols=['is_duplicate'])"
   ]
  },
  {
   "cell_type": "code",
   "execution_count": 46,
   "metadata": {
    "collapsed": false
   },
   "outputs": [
    {
     "data": {
      "text/html": [
       "<div>\n",
       "<table border=\"1\" class=\"dataframe\">\n",
       "  <thead>\n",
       "    <tr style=\"text-align: right;\">\n",
       "      <th></th>\n",
       "      <th>new</th>\n",
       "      <th>1313</th>\n",
       "      <th>12755</th>\n",
       "      <th>12758</th>\n",
       "    </tr>\n",
       "  </thead>\n",
       "  <tbody>\n",
       "    <tr>\n",
       "      <th>new</th>\n",
       "      <td>1.000000</td>\n",
       "      <td>0.996915</td>\n",
       "      <td>0.997896</td>\n",
       "      <td>0.997806</td>\n",
       "    </tr>\n",
       "    <tr>\n",
       "      <th>1313</th>\n",
       "      <td>0.996915</td>\n",
       "      <td>1.000000</td>\n",
       "      <td>0.997647</td>\n",
       "      <td>0.997114</td>\n",
       "    </tr>\n",
       "    <tr>\n",
       "      <th>12755</th>\n",
       "      <td>0.997896</td>\n",
       "      <td>0.997647</td>\n",
       "      <td>1.000000</td>\n",
       "      <td>0.998115</td>\n",
       "    </tr>\n",
       "    <tr>\n",
       "      <th>12758</th>\n",
       "      <td>0.997806</td>\n",
       "      <td>0.997114</td>\n",
       "      <td>0.998115</td>\n",
       "      <td>1.000000</td>\n",
       "    </tr>\n",
       "  </tbody>\n",
       "</table>\n",
       "</div>"
      ],
      "text/plain": [
       "            new      1313     12755     12758\n",
       "new    1.000000  0.996915  0.997896  0.997806\n",
       "1313   0.996915  1.000000  0.997647  0.997114\n",
       "12755  0.997896  0.997647  1.000000  0.998115\n",
       "12758  0.997806  0.997114  0.998115  1.000000"
      ]
     },
     "execution_count": 46,
     "metadata": {},
     "output_type": "execute_result"
    }
   ],
   "source": [
    "t.corr(method='spearman')"
   ]
  },
  {
   "cell_type": "code",
   "execution_count": 11,
   "metadata": {
    "collapsed": false
   },
   "outputs": [
    {
     "name": "stdout",
     "output_type": "stream",
     "text": [
      "Populating the interactive namespace from numpy and matplotlib\n"
     ]
    }
   ],
   "source": [
    "%pylab inline\n",
    "import matplotlib.pylab as plt\n",
    "import seaborn as sns"
   ]
  },
  {
   "cell_type": "code",
   "execution_count": 48,
   "metadata": {
    "collapsed": false
   },
   "outputs": [
    {
     "data": {
      "image/png": "[encoded data removed]",
      "text/plain": [
       "<matplotlib.figure.Figure at 0x10f529d30>"
      ]
     },
     "metadata": {},
     "output_type": "display_data"
    }
   ],
   "source": [
    "sns.distplot(t['1313'], kde=False)\n",
    "sns.distplot(t ['new'], kde=False)\n",
    "sns.distplot(t ['12758'], kde=False)\n",
    "plt.yscale('log')"
   ]
  },
  {
   "cell_type": "code",
   "execution_count": null,
   "metadata": {
    "collapsed": true
   },
   "outputs": [],
   "source": []
  },
  {
   "cell_type": "code",
   "execution_count": 32,
   "metadata": {
    "collapsed": false
   },
   "outputs": [
    {
     "name": "stdout",
     "output_type": "stream",
     "text": [
      "The history saving thread hit an unexpected error (OperationalError('database is locked',)).History will not be written to the database.\n",
      "Populating the interactive namespace from numpy and matplotlib\n"
     ]
    }
   ],
   "source": [
    "import pandas as pd\n",
    "import numpy as np\n",
    "import datetime\n",
    "import os\n",
    "import pickle\n",
    "\n",
    "import warnings\n",
    "warnings.filterwarnings('ignore')\n",
    "\n",
    "%pylab inline\n",
    "import matplotlib.pylab as plt\n",
    "import seaborn as sns\n",
    "\n",
    "from sklearn.metrics.pairwise import cosine_similarity\n",
    "from sklearn.metrics import log_loss\n",
    "from sklearn.model_selection import train_test_split, GroupKFold, KFold\n",
    "from sklearn.feature_extraction.text import TfidfVectorizer, CountVectorizer\n",
    "from sklearn.preprocessing import MaxAbsScaler, MinMaxScaler\n",
    "\n",
    "from scipy.sparse import csr_matrix, coo_matrix,hstack, vstack\n",
    "DATA_PATH = 'data/'\n",
    "\n",
    "import multiprocessing as mp\n",
    "NUM_CORES = 4\n",
    "def apply_parallel(df, my_func):\n",
    "    df_splitted = np.array_split(df, NUM_CORES)\n",
    "    pool = mp.Pool(NUM_CORES)\n",
    "    result = pd.concat(pool.map(my_func, df_splitted))\n",
    "    pool.close()\n",
    "    pool.join()\n",
    "    return result"
   ]
  },
  {
   "cell_type": "code",
   "execution_count": 37,
   "metadata": {
    "collapsed": false
   },
   "outputs": [
    {
     "name": "stdout",
     "output_type": "stream",
     "text": [
      "[ 0  2  4  6  7  8  9 10 11 12 15 16 17 18 19]\n",
      "[  3  13  28  29  31  54  59  71  76  78  88  93  94 100 103]\n",
      "[ 1  5 14 24 26 27 38 39 40 43 49 51 53 58 67]\n",
      "\n",
      "[ 2  4  5  6  7  8 10 11 12 13 14 15 17 19 20]\n",
      "[ 1  3 18 23 27 29 37 49 63 64 67 71 75 95 96]\n",
      "[ 0  9 16 22 25 28 31 34 35 44 50 52 55 56 59]\n",
      "\n",
      "[ 0  1  2  4  5  6  7  8  9 10 12 13 14 16 17]\n",
      "[ 31  59  68  78 115 120 122 125 136 137 142 143 158 159 165]\n",
      "[ 3 11 15 23 29 30 41 42 45 46 48 73 75 82 85]\n",
      "\n",
      "[ 0  1  3  5  7  8  9 11 13 16 19 20 21 22 23]\n",
      "[ 14  15  28  44  45  51  59  63  81  90  92  94  96 101 103]\n",
      "[ 2  4  6 10 12 17 18 47 64 65 66 71 72 76 77]\n",
      "\n",
      "[ 0  1  2  3  4  5  6  9 10 11 12 14 15 16 17]\n",
      "[ 23  24  26  30  38  42  52  58  59  60  64  65  67 107 111]\n",
      "[ 7  8 13 19 20 21 32 33 36 37 54 57 61 63 74]\n",
      "\n"
     ]
    }
   ],
   "source": [
    "\n",
    "n_splits = 5\n",
    "iters_total = 1\n",
    "ids = pd.read_csv('data/final/data_ids.csv',usecols=['graph_id'])\n",
    "graph_ids_unique = ids.graph_id.unique()\n",
    "    \n",
    "for iter_num in range(iters_total):\n",
    "    kf = KFold(n_splits=n_splits, shuffle=True)\n",
    "    for train_graphs, test_graphs  in kf.split(graph_ids_unique):\n",
    "        train_ind = ids[ids.graph_id.isin(graph_ids_unique[train_graphs])].index.values\n",
    "        test_ind  = ids[ids.graph_id.isin(graph_ids_unique[test_graphs ])].index.values\n",
    "            \n",
    "        if True: # add validation set\n",
    "            kf_valid = KFold(n_splits=7, shuffle=True)\n",
    "            graph_ids_train = graph_ids_unique[train_graphs]\n",
    "            train_graphs, valid_graphs = list(kf_valid.split(graph_ids_train))[0]\n",
    "            train_ind = ids[ids.graph_id.isin(graph_ids_train[train_graphs])].index.values\n",
    "            valid_ind = ids[ids.graph_id.isin(graph_ids_train[valid_graphs])].index.values\n",
    "        print (train_ind[:15])\n",
    "        print (valid_ind[:15])\n",
    "        print (test_ind[:15])\n",
    "        print ()\n"
   ]
  },
  {
   "cell_type": "code",
   "execution_count": 40,
   "metadata": {
    "collapsed": true
   },
   "outputs": [],
   "source": [
    "gtrain = ids.iloc[train_ind].graph_id.unique()\n",
    "gvalid = ids.iloc[valid_ind].graph_id.unique()\n",
    "gtest = ids.iloc[test_ind].graph_id.unique()"
   ]
  },
  {
   "cell_type": "code",
   "execution_count": 39,
   "metadata": {
    "collapsed": false
   },
   "outputs": [
    {
     "data": {
      "text/plain": [
       "array([     1,      3,      5, ..., 535856, 535862, 535864])"
      ]
     },
     "execution_count": 39,
     "metadata": {},
     "output_type": "execute_result"
    }
   ],
   "source": [
    "gtrain"
   ]
  },
  {
   "cell_type": "code",
   "execution_count": 41,
   "metadata": {
    "collapsed": false
   },
   "outputs": [
    {
     "data": {
      "text/plain": [
       "array([    47,     49,     53, ..., 535815, 535836, 535868])"
      ]
     },
     "execution_count": 41,
     "metadata": {},
     "output_type": "execute_result"
    }
   ],
   "source": [
    "gvalid"
   ]
  },
  {
   "cell_type": "code",
   "execution_count": null,
   "metadata": {
    "collapsed": true
   },
   "outputs": [],
   "source": []
  }
 ],
 "metadata": {
  "kernelspec": {
   "display_name": "Python 3",
   "language": "python",
   "name": "python3"
  },
  "language_info": {
   "codemirror_mode": {
    "name": "ipython",
    "version": 3
   },
   "file_extension": ".py",
   "mimetype": "text/x-python",
   "name": "python",
   "nbconvert_exporter": "python",
   "pygments_lexer": "ipython3",
   "version": "3.5.2"
  }
 },
 "nbformat": 4,
 "nbformat_minor": 2
}
